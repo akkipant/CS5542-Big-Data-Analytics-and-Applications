{
  "nbformat": 4,
  "nbformat_minor": 0,
  "metadata": {
    "colab": {
      "name": "BDA_ICP-11.ipynb",
      "provenance": [],
      "include_colab_link": true
    },
    "kernelspec": {
      "name": "python3",
      "display_name": "Python 3"
    },
    "accelerator": "GPU"
  },
  "cells": [
    {
      "cell_type": "markdown",
      "metadata": {
        "id": "view-in-github",
        "colab_type": "text"
      },
      "source": [
        "<a href=\"https://colab.research.google.com/github/akkipant/CS5542-Big-Data-Analytics-and-Applications/blob/master/ICP-11/Source/BDA_ICP_11.ipynb\" target=\"_parent\"><img src=\"https://colab.research.google.com/assets/colab-badge.svg\" alt=\"Open In Colab\"/></a>"
      ]
    },
    {
      "cell_type": "code",
      "metadata": {
        "id": "4zYGn_Zt_gcN"
      },
      "source": [
        "import tensorflow as tf\n",
        "import os\n",
        "import sys\n",
        "import cv2\n",
        "import random\n",
        "import numpy as np\n",
        "from tqdm import tqdm\n",
        "from itertools import chain\n",
        "from skimage.io import imread, imshow\n",
        "from keras import backend as K\n",
        "import matplotlib.pyplot as plt\n"
      ],
      "execution_count": 1,
      "outputs": []
    },
    {
      "cell_type": "code",
      "metadata": {
        "id": "nC83Dms9EnGV"
      },
      "source": [
        "! pip install -q kaggle\n"
      ],
      "execution_count": 2,
      "outputs": []
    },
    {
      "cell_type": "code",
      "metadata": {
        "colab": {
          "resources": {
            "http://localhost:8080/nbextensions/google.colab/files.js": {
              "data": "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",
              "ok": true,
              "headers": [
                [
                  "content-type",
                  "application/javascript"
                ]
              ],
              "status": 200,
              "status_text": ""
            }
          },
          "base_uri": "https://localhost:8080/",
          "height": 91
        },
        "id": "DtqSyOmhGhKO",
        "outputId": "587e63ff-b8e9-45b7-c793-a4d38d0adb0a"
      },
      "source": [
        "from google.colab import files\n",
        "\n",
        "files.upload()"
      ],
      "execution_count": 3,
      "outputs": [
        {
          "output_type": "display_data",
          "data": {
            "text/html": [
              "\n",
              "     <input type=\"file\" id=\"files-395a00a3-4cb1-4c25-b186-3c416682d9f2\" name=\"files[]\" multiple disabled\n",
              "        style=\"border:none\" />\n",
              "     <output id=\"result-395a00a3-4cb1-4c25-b186-3c416682d9f2\">\n",
              "      Upload widget is only available when the cell has been executed in the\n",
              "      current browser session. Please rerun this cell to enable.\n",
              "      </output>\n",
              "      <script src=\"/nbextensions/google.colab/files.js\"></script> "
            ],
            "text/plain": [
              "<IPython.core.display.HTML object>"
            ]
          },
          "metadata": {
            "tags": []
          }
        },
        {
          "output_type": "stream",
          "text": [
            "Saving kaggle.json to kaggle.json\n"
          ],
          "name": "stdout"
        },
        {
          "output_type": "execute_result",
          "data": {
            "text/plain": [
              "{'kaggle.json': b'{\"username\":\"syedshah8108\",\"key\":\"9fb2b617f308c1a06bca96dd76a43e63\"}'}"
            ]
          },
          "metadata": {
            "tags": []
          },
          "execution_count": 3
        }
      ]
    },
    {
      "cell_type": "markdown",
      "metadata": {
        "id": "yHyQ4u9TVQda"
      },
      "source": [
        "upload the kaagle.json file you created earlier "
      ]
    },
    {
      "cell_type": "code",
      "metadata": {
        "id": "xg5HLBv7GuFa"
      },
      "source": [
        " ! mkdir ~/.kaggle\n",
        "\n",
        "! cp kaggle.json ~/.kaggle"
      ],
      "execution_count": 4,
      "outputs": []
    },
    {
      "cell_type": "markdown",
      "metadata": {
        "id": "dJmZZwXEVgr7"
      },
      "source": [
        ""
      ]
    },
    {
      "cell_type": "code",
      "metadata": {
        "id": "OR2c9zIXGxbJ"
      },
      "source": [
        "! chmod 600 ~/.kaggle/kaggle.json"
      ],
      "execution_count": 5,
      "outputs": []
    },
    {
      "cell_type": "code",
      "metadata": {
        "colab": {
          "base_uri": "https://localhost:8080/"
        },
        "id": "kwIQCAVWG1xV",
        "outputId": "c115b0b6-422b-4966-818a-35d1a084fb87"
      },
      "source": [
        "! kaggle datasets list"
      ],
      "execution_count": 6,
      "outputs": [
        {
          "output_type": "stream",
          "text": [
            "Warning: Looks like you're using an outdated API Version, please consider updating (server 1.5.9 / client 1.5.4)\n",
            "ref                                                     title                                              size  lastUpdated          downloadCount  \n",
            "------------------------------------------------------  -----------------------------------------------  ------  -------------------  -------------  \n",
            "unanimad/us-election-2020                               US Election 2020                                  428KB  2020-11-23 12:01:34           8188  \n",
            "antgoldbloom/covid19-data-from-john-hopkins-university  COVID-19 data from John Hopkins University          3MB  2020-11-23 06:03:57           4083  \n",
            "manchunhui/us-election-2020-tweets                      US Election 2020 Tweets                           353MB  2020-11-09 18:51:59           3332  \n",
            "headsortails/us-election-2020-presidential-debates      US Election 2020 - Presidential Debates           439MB  2020-11-23 21:42:31            634  \n",
            "etsc9287/2020-general-election-polls                    Election, COVID, and Demographic Data by County  1020KB  2020-11-14 19:52:25           1371  \n",
            "radustoicescu/2020-united-states-presidential-election  2020 United States presidential election           11MB  2019-07-04 15:00:45            892  \n",
            "shivamb/netflix-shows                                   Netflix Movies and TV Shows                       971KB  2020-01-20 07:33:56          63270  \n",
            "terenceshin/covid19s-impact-on-airport-traffic          COVID-19's Impact on Airport Traffic              106KB  2020-10-19 12:40:17           5168  \n",
            "sootersaalu/amazon-top-50-bestselling-books-2009-2019   Amazon Top 50 Bestselling Books 2009 - 2019        15KB  2020-10-13 09:39:21           5678  \n",
            "nehaprabhavalkar/indian-food-101                        Indian Food 101                                     7KB  2020-09-30 06:23:43           8102  \n",
            "karangadiya/fifa19                                      FIFA 19 complete player dataset                     2MB  2018-12-21 03:52:59         105627  \n",
            "heeraldedhia/groceries-dataset                          Groceries dataset                                 257KB  2020-09-17 04:36:08           8619  \n",
            "andrewmvd/trip-advisor-hotel-reviews                    Trip Advisor Hotel Reviews                          5MB  2020-09-30 08:31:20           5704  \n",
            "docstein/brics-world-bank-indicators                    BRICS World Bank Indicators                         4MB  2020-10-22 12:18:40           1443  \n",
            "omarhanyy/500-greatest-songs-of-all-time                500 Greatest Songs of All Time                    114KB  2020-11-19 19:08:28           1881  \n",
            "google/tinyquickdraw                                    QuickDraw Sketches                                 11GB  2018-04-18 19:38:04           2508  \n",
            "datasnaek/youtube-new                                   Trending YouTube Video Statistics                 201MB  2019-06-03 00:56:47         116765  \n",
            "uciml/mushroom-classification                           Mushroom Classification                            34KB  2016-12-01 23:08:00          55610  \n",
            "anikannal/solar-power-generation-data                   Solar Power Generation Data                         2MB  2020-08-18 15:52:03          10718  \n",
            "zynicide/wine-reviews                                   Wine Reviews                                       51MB  2017-11-27 17:08:04         120111  \n"
          ],
          "name": "stdout"
        }
      ]
    },
    {
      "cell_type": "markdown",
      "metadata": {
        "id": "a7nFf6O_VmiG"
      },
      "source": [
        "dowlowad the data set by executing the following code"
      ]
    },
    {
      "cell_type": "code",
      "metadata": {
        "colab": {
          "base_uri": "https://localhost:8080/"
        },
        "id": "5AZgGLksEpiN",
        "outputId": "58289f31-1405-4f45-cdd3-a40714f013ca"
      },
      "source": [
        "\n",
        "!kaggle competitions download -c data-science-bowl-2018"
      ],
      "execution_count": 7,
      "outputs": [
        {
          "output_type": "stream",
          "text": [
            "Warning: Looks like you're using an outdated API Version, please consider updating (server 1.5.9 / client 1.5.4)\n",
            "Downloading stage1_solution.csv.zip to /content\n",
            "  0% 0.00/386k [00:00<?, ?B/s]\n",
            "100% 386k/386k [00:00<00:00, 56.8MB/s]\n",
            "Downloading stage1_test.zip to /content\n",
            "  0% 0.00/9.10M [00:00<?, ?B/s]\n",
            "100% 9.10M/9.10M [00:00<00:00, 83.7MB/s]\n",
            "Downloading stage2_sample_submission_final.csv.zip to /content\n",
            "  0% 0.00/112k [00:00<?, ?B/s]\n",
            "100% 112k/112k [00:00<00:00, 119MB/s]\n",
            "Downloading stage2_test_final.zip to /content\n",
            " 97% 269M/276M [00:01<00:00, 212MB/s]\n",
            "100% 276M/276M [00:01<00:00, 195MB/s]\n",
            "Downloading stage1_train_labels.csv.zip to /content\n",
            "  0% 0.00/2.67M [00:00<?, ?B/s]\n",
            "100% 2.67M/2.67M [00:00<00:00, 181MB/s]\n",
            "Downloading stage1_sample_submission.csv.zip to /content\n",
            "  0% 0.00/2.62k [00:00<?, ?B/s]\n",
            "100% 2.62k/2.62k [00:00<00:00, 2.71MB/s]\n",
            "Downloading stage1_train.zip to /content\n",
            " 94% 74.0M/79.1M [00:01<00:00, 26.4MB/s]\n",
            "100% 79.1M/79.1M [00:01<00:00, 43.2MB/s]\n"
          ],
          "name": "stdout"
        }
      ]
    },
    {
      "cell_type": "markdown",
      "metadata": {
        "id": "KIJGCXO3Vtrk"
      },
      "source": [
        "create a new directory to unzip the data "
      ]
    },
    {
      "cell_type": "code",
      "metadata": {
        "id": "7JpKKkOKHPrQ"
      },
      "source": [
        "! mkdir train"
      ],
      "execution_count": 8,
      "outputs": []
    },
    {
      "cell_type": "markdown",
      "metadata": {
        "id": "B-lNHVMMVqfS"
      },
      "source": [
        "## unzip the data file\n"
      ]
    },
    {
      "cell_type": "code",
      "metadata": {
        "id": "ehVL77uVHXy4"
      },
      "source": [
        "! unzip /content/stage1_train.zip -d train >> a.txt"
      ],
      "execution_count": 9,
      "outputs": []
    },
    {
      "cell_type": "code",
      "metadata": {
        "id": "9WBBiv5O4doO"
      },
      "source": [
        "IMG_WIDTH = 128\n",
        "IMG_HEIGHT = 128\n",
        "IMG_CHANNELS = 3"
      ],
      "execution_count": 10,
      "outputs": []
    },
    {
      "cell_type": "code",
      "metadata": {
        "colab": {
          "base_uri": "https://localhost:8080/"
        },
        "id": "0KXsfbfY_vgG",
        "outputId": "ac6bafbb-4f54-47bb-c482-1cd177c8e384"
      },
      "source": [
        "DATA_PATH = '/content/train/'\n",
        "\n",
        "\n",
        "seed = 42\n",
        "random.seed = seed\n",
        "np.random.seed = seed\n",
        "\n",
        "image_ids = next(os.walk(DATA_PATH))[1]\n",
        "\n",
        "X = np.zeros((len(image_ids), IMG_HEIGHT, IMG_WIDTH, IMG_CHANNELS), dtype=np.uint8)\n",
        "Y = np.zeros((len(image_ids), IMG_HEIGHT, IMG_WIDTH, 1), dtype=np.bool)\n",
        "\n",
        "for n, id_ in tqdm(enumerate(image_ids), total=len(image_ids)):\n",
        "    path = DATA_PATH + id_\n",
        "    img = imread(path + '/images/' + id_ + '.png')[:,:,:IMG_CHANNELS]\n",
        "    img = cv2.resize(img, (IMG_HEIGHT, IMG_WIDTH), )\n",
        "    X[n] = img\n",
        "    mask = np.zeros((IMG_HEIGHT, IMG_WIDTH, 1), dtype=np.bool)\n",
        "    for mask_file in next(os.walk(path + '/masks/'))[2]:\n",
        "        mask_ = imread(path + '/masks/' + mask_file)\n",
        "        mask_ = np.expand_dims(cv2.resize(mask_, (IMG_HEIGHT, IMG_WIDTH), interpolation = cv2.INTER_AREA), axis=-1)\n",
        "        mask = np.maximum(mask, mask_)\n",
        "    Y[n] = mask\n",
        "\n",
        "x_train=X\n",
        "\n",
        "y_train=Y"
      ],
      "execution_count": 11,
      "outputs": [
        {
          "output_type": "stream",
          "text": [
            "100%|██████████| 670/670 [01:09<00:00,  9.57it/s]\n"
          ],
          "name": "stderr"
        }
      ]
    },
    {
      "cell_type": "code",
      "metadata": {
        "id": "L0_oVaMIJZbi"
      },
      "source": [
        "# Build U-Net model\n",
        "inputs = tf.keras.layers.Input((IMG_HEIGHT, IMG_WIDTH, IMG_CHANNELS))\n",
        "s = tf.keras.layers.Lambda(lambda x: x / 255)(inputs)\n",
        "\n",
        "c1 = tf.keras.layers.Conv2D(16, (3, 3), activation=tf.keras.activations.elu, kernel_initializer='he_normal',\n",
        "                            padding='same')(s)\n",
        "c1 = tf.keras.layers.Dropout(0.1)(c1)\n",
        "c1 = tf.keras.layers.Conv2D(16, (3, 3), activation=tf.keras.activations.elu, kernel_initializer='he_normal',\n",
        "                            padding='same')(c1)\n",
        "p1 = tf.keras.layers.MaxPooling2D((2, 2))(c1)\n",
        "\n",
        "c2 = tf.keras.layers.Conv2D(32, (3, 3), activation=tf.keras.activations.elu, kernel_initializer='he_normal',\n",
        "                            padding='same')(p1)\n",
        "c2 = tf.keras.layers.Dropout(0.1)(c2)\n",
        "c2 = tf.keras.layers.Conv2D(32, (3, 3), activation=tf.keras.activations.elu, kernel_initializer='he_normal',\n",
        "                            padding='same')(c2)\n",
        "p2 = tf.keras.layers.MaxPooling2D((2, 2))(c2)\n",
        "\n",
        "c3 = tf.keras.layers.Conv2D(64, (3, 3), activation=tf.keras.activations.elu, kernel_initializer='he_normal',\n",
        "                            padding='same')(p2)\n",
        "c3 = tf.keras.layers.Dropout(0.2)(c3)\n",
        "c3 = tf.keras.layers.Conv2D(64, (3, 3), activation=tf.keras.activations.elu, kernel_initializer='he_normal',\n",
        "                            padding='same')(c3)\n",
        "p3 = tf.keras.layers.MaxPooling2D((2, 2))(c3)\n",
        "\n",
        "c4 = tf.keras.layers.Conv2D(128, (3, 3), activation=tf.keras.activations.elu, kernel_initializer='he_normal',\n",
        "                            padding='same')(p3)\n",
        "c4 = tf.keras.layers.Dropout(0.2)(c4)\n",
        "c4 = tf.keras.layers.Conv2D(128, (3, 3), activation=tf.keras.activations.elu, kernel_initializer='he_normal',\n",
        "                            padding='same')(c4)\n",
        "\n",
        "p4 = tf.keras.layers.MaxPooling2D(pool_size=(2, 2))(c4)\n",
        "\n",
        "# Added One more layer to the Encoder to get more features\n",
        "\n",
        "c5 = tf.keras.layers.Conv2D(256, (3, 3), activation=tf.keras.activations.elu, kernel_initializer='he_normal',\n",
        "                            padding='same')(p4)\n",
        "c5 = tf.keras.layers.Dropout(0.2)(c5)\n",
        "c5 = tf.keras.layers.Conv2D(256, (3, 3), activation=tf.keras.activations.elu, kernel_initializer='he_normal',\n",
        "                            padding='same')(c5)\n",
        "p5 = tf.keras.layers.MaxPooling2D(pool_size=(2, 2))(c5)\n",
        "\n",
        "# Added 2 layers to the bottleneck to get uniform training curve and slow training\n",
        "cf = tf.keras.layers.Conv2D(512, (3, 3), activation=tf.keras.activations.elu, kernel_initializer='he_normal',\n",
        "                            padding='same')(p5)\n",
        "cf = tf.keras.layers.Dropout(0.3)(cf)\n",
        "cf = tf.keras.layers.Conv2D(512, (3, 3), activation=tf.keras.activations.elu, kernel_initializer='he_normal',\n",
        "                            padding='same')(cf)\n",
        "cf = tf.keras.layers.Dropout(0.3)(cf)\n",
        "cf = tf.keras.layers.Conv2D(512, (3, 3), activation=tf.keras.activations.elu, kernel_initializer='he_normal',\n",
        "                            padding='same')(cf)\n",
        "cf = tf.keras.layers.Dropout(0.3)(cf)\n",
        "cf = tf.keras.layers.Conv2D(512, (3, 3), activation=tf.keras.activations.elu, kernel_initializer='he_normal',\n",
        "                            padding='same')(cf)\n",
        "\n",
        "# Decoder layer for the added layer in encoder\n",
        "u5 = tf.keras.layers.Conv2DTranspose(256, (2, 2), strides=(2, 2), padding='same')(cf)\n",
        "u5 = tf.keras.layers.concatenate([u5, c5])\n",
        "c5 = tf.keras.layers.Conv2D(256, (3, 3), activation=tf.keras.activations.elu, kernel_initializer='he_normal',\n",
        "                            padding='same')(u5)\n",
        "c5 = tf.keras.layers.Dropout(0.2)(c5)\n",
        "c5 = tf.keras.layers.Conv2D(256, (3, 3), activation=tf.keras.activations.elu, kernel_initializer='he_normal',\n",
        "                            padding='same')(c5)\n",
        "\n",
        "u6 = tf.keras.layers.Conv2DTranspose(128, (2, 2), strides=(2, 2), padding='same')(c5)\n",
        "u6 = tf.keras.layers.concatenate([u6, c4])\n",
        "c6 = tf.keras.layers.Conv2D(128, (3, 3), activation=tf.keras.activations.elu, kernel_initializer='he_normal',\n",
        "                            padding='same')(u6)\n",
        "c6 = tf.keras.layers.Dropout(0.2)(c6)\n",
        "c6 = tf.keras.layers.Conv2D(128, (3, 3), activation=tf.keras.activations.elu, kernel_initializer='he_normal',\n",
        "                            padding='same')(c6)\n",
        "\n",
        "u7 = tf.keras.layers.Conv2DTranspose(64, (2, 2), strides=(2, 2), padding='same')(c6)\n",
        "u7 = tf.keras.layers.concatenate([u7, c3])\n",
        "c7 = tf.keras.layers.Conv2D(64, (3, 3), activation=tf.keras.activations.elu, kernel_initializer='he_normal',\n",
        "                            padding='same')(u7)\n",
        "c7 = tf.keras.layers.Dropout(0.2)(c7)\n",
        "c7 = tf.keras.layers.Conv2D(64, (3, 3), activation=tf.keras.activations.elu, kernel_initializer='he_normal',\n",
        "                            padding='same')(c7)\n",
        "\n",
        "u8 = tf.keras.layers.Conv2DTranspose(32, (2, 2), strides=(2, 2), padding='same')(c7)\n",
        "u8 = tf.keras.layers.concatenate([u8, c2])\n",
        "c8 = tf.keras.layers.Conv2D(32, (3, 3), activation=tf.keras.activations.elu, kernel_initializer='he_normal',\n",
        "                            padding='same')(u8)\n",
        "c8 = tf.keras.layers.Dropout(0.1)(c8)\n",
        "c8 = tf.keras.layers.Conv2D(32, (3, 3), activation=tf.keras.activations.elu, kernel_initializer='he_normal',\n",
        "                            padding='same')(c8)\n",
        "\n",
        "u9 = tf.keras.layers.Conv2DTranspose(16, (2, 2), strides=(2, 2), padding='same')(c8)\n",
        "u9 = tf.keras.layers.concatenate([u9, c1], axis=3)\n",
        "c9 = tf.keras.layers.Conv2D(16, (3, 3), activation=tf.keras.activations.elu, kernel_initializer='he_normal',\n",
        "                            padding='same')(u9)\n",
        "c9 = tf.keras.layers.Dropout(0.1)(c9)\n",
        "c9 = tf.keras.layers.Conv2D(16, (3, 3), activation=tf.keras.activations.elu, kernel_initializer='he_normal',\n",
        "                            padding='same')(c9)\n",
        "\n",
        "outputs = tf.keras.layers.Conv2D(1, (1, 1), activation='sigmoid')(c9)"
      ],
      "execution_count": 18,
      "outputs": []
    },
    {
      "cell_type": "markdown",
      "metadata": {
        "id": "z5sAU9tlXtrZ"
      },
      "source": [
        "In segmentation problems accuracy sometime can be a misleading and therefore a more reliable paramete, Dice score, is used to evaluate the model performance"
      ]
    },
    {
      "cell_type": "code",
      "metadata": {
        "id": "PxHEgbbuLdhO"
      },
      "source": [
        "def dice_acc(y_true, y_pred):\n",
        "    smooth = 1.\n",
        "    y_true_f = K.flatten(y_true)\n",
        "    y_pred_f = K.flatten(y_pred)\n",
        "    intersection = K.sum(y_true_f * y_pred_f)\n",
        "    return (2. * intersection + smooth) / (K.sum(y_true_f) + K.sum(y_pred_f) + smooth)"
      ],
      "execution_count": 19,
      "outputs": []
    },
    {
      "cell_type": "markdown",
      "metadata": {
        "id": "6nhuxdPHYBOe"
      },
      "source": [
        "compiling the model"
      ]
    },
    {
      "cell_type": "code",
      "metadata": {
        "colab": {
          "base_uri": "https://localhost:8080/"
        },
        "id": "n7DwKWh7LaYl",
        "outputId": "bb83353d-6764-4e47-caea-663cbc0783ac"
      },
      "source": [
        "model = tf.keras.Model(inputs=[inputs], outputs=[outputs])\n",
        "#Changed loss function to Mean Squared Error\n",
        "model.compile(optimizer='adam', loss='MSE', metrics=[dice_acc])\n",
        "model.summary()"
      ],
      "execution_count": 20,
      "outputs": [
        {
          "output_type": "stream",
          "text": [
            "Model: \"functional_3\"\n",
            "__________________________________________________________________________________________________\n",
            "Layer (type)                    Output Shape         Param #     Connected to                     \n",
            "==================================================================================================\n",
            "input_2 (InputLayer)            [(None, 128, 128, 3) 0                                            \n",
            "__________________________________________________________________________________________________\n",
            "lambda_1 (Lambda)               (None, 128, 128, 3)  0           input_2[0][0]                    \n",
            "__________________________________________________________________________________________________\n",
            "conv2d_25 (Conv2D)              (None, 128, 128, 16) 448         lambda_1[0][0]                   \n",
            "__________________________________________________________________________________________________\n",
            "dropout_13 (Dropout)            (None, 128, 128, 16) 0           conv2d_25[0][0]                  \n",
            "__________________________________________________________________________________________________\n",
            "conv2d_26 (Conv2D)              (None, 128, 128, 16) 2320        dropout_13[0][0]                 \n",
            "__________________________________________________________________________________________________\n",
            "max_pooling2d_5 (MaxPooling2D)  (None, 64, 64, 16)   0           conv2d_26[0][0]                  \n",
            "__________________________________________________________________________________________________\n",
            "conv2d_27 (Conv2D)              (None, 64, 64, 32)   4640        max_pooling2d_5[0][0]            \n",
            "__________________________________________________________________________________________________\n",
            "dropout_14 (Dropout)            (None, 64, 64, 32)   0           conv2d_27[0][0]                  \n",
            "__________________________________________________________________________________________________\n",
            "conv2d_28 (Conv2D)              (None, 64, 64, 32)   9248        dropout_14[0][0]                 \n",
            "__________________________________________________________________________________________________\n",
            "max_pooling2d_6 (MaxPooling2D)  (None, 32, 32, 32)   0           conv2d_28[0][0]                  \n",
            "__________________________________________________________________________________________________\n",
            "conv2d_29 (Conv2D)              (None, 32, 32, 64)   18496       max_pooling2d_6[0][0]            \n",
            "__________________________________________________________________________________________________\n",
            "dropout_15 (Dropout)            (None, 32, 32, 64)   0           conv2d_29[0][0]                  \n",
            "__________________________________________________________________________________________________\n",
            "conv2d_30 (Conv2D)              (None, 32, 32, 64)   36928       dropout_15[0][0]                 \n",
            "__________________________________________________________________________________________________\n",
            "max_pooling2d_7 (MaxPooling2D)  (None, 16, 16, 64)   0           conv2d_30[0][0]                  \n",
            "__________________________________________________________________________________________________\n",
            "conv2d_31 (Conv2D)              (None, 16, 16, 128)  73856       max_pooling2d_7[0][0]            \n",
            "__________________________________________________________________________________________________\n",
            "dropout_16 (Dropout)            (None, 16, 16, 128)  0           conv2d_31[0][0]                  \n",
            "__________________________________________________________________________________________________\n",
            "conv2d_32 (Conv2D)              (None, 16, 16, 128)  147584      dropout_16[0][0]                 \n",
            "__________________________________________________________________________________________________\n",
            "max_pooling2d_8 (MaxPooling2D)  (None, 8, 8, 128)    0           conv2d_32[0][0]                  \n",
            "__________________________________________________________________________________________________\n",
            "conv2d_33 (Conv2D)              (None, 8, 8, 256)    295168      max_pooling2d_8[0][0]            \n",
            "__________________________________________________________________________________________________\n",
            "dropout_17 (Dropout)            (None, 8, 8, 256)    0           conv2d_33[0][0]                  \n",
            "__________________________________________________________________________________________________\n",
            "conv2d_34 (Conv2D)              (None, 8, 8, 256)    590080      dropout_17[0][0]                 \n",
            "__________________________________________________________________________________________________\n",
            "max_pooling2d_9 (MaxPooling2D)  (None, 4, 4, 256)    0           conv2d_34[0][0]                  \n",
            "__________________________________________________________________________________________________\n",
            "conv2d_35 (Conv2D)              (None, 4, 4, 512)    1180160     max_pooling2d_9[0][0]            \n",
            "__________________________________________________________________________________________________\n",
            "dropout_18 (Dropout)            (None, 4, 4, 512)    0           conv2d_35[0][0]                  \n",
            "__________________________________________________________________________________________________\n",
            "conv2d_36 (Conv2D)              (None, 4, 4, 512)    2359808     dropout_18[0][0]                 \n",
            "__________________________________________________________________________________________________\n",
            "dropout_19 (Dropout)            (None, 4, 4, 512)    0           conv2d_36[0][0]                  \n",
            "__________________________________________________________________________________________________\n",
            "conv2d_37 (Conv2D)              (None, 4, 4, 512)    2359808     dropout_19[0][0]                 \n",
            "__________________________________________________________________________________________________\n",
            "dropout_20 (Dropout)            (None, 4, 4, 512)    0           conv2d_37[0][0]                  \n",
            "__________________________________________________________________________________________________\n",
            "conv2d_38 (Conv2D)              (None, 4, 4, 512)    2359808     dropout_20[0][0]                 \n",
            "__________________________________________________________________________________________________\n",
            "conv2d_transpose_5 (Conv2DTrans (None, 8, 8, 256)    524544      conv2d_38[0][0]                  \n",
            "__________________________________________________________________________________________________\n",
            "concatenate_5 (Concatenate)     (None, 8, 8, 512)    0           conv2d_transpose_5[0][0]         \n",
            "                                                                 conv2d_34[0][0]                  \n",
            "__________________________________________________________________________________________________\n",
            "conv2d_39 (Conv2D)              (None, 8, 8, 256)    1179904     concatenate_5[0][0]              \n",
            "__________________________________________________________________________________________________\n",
            "dropout_21 (Dropout)            (None, 8, 8, 256)    0           conv2d_39[0][0]                  \n",
            "__________________________________________________________________________________________________\n",
            "conv2d_40 (Conv2D)              (None, 8, 8, 256)    590080      dropout_21[0][0]                 \n",
            "__________________________________________________________________________________________________\n",
            "conv2d_transpose_6 (Conv2DTrans (None, 16, 16, 128)  131200      conv2d_40[0][0]                  \n",
            "__________________________________________________________________________________________________\n",
            "concatenate_6 (Concatenate)     (None, 16, 16, 256)  0           conv2d_transpose_6[0][0]         \n",
            "                                                                 conv2d_32[0][0]                  \n",
            "__________________________________________________________________________________________________\n",
            "conv2d_41 (Conv2D)              (None, 16, 16, 128)  295040      concatenate_6[0][0]              \n",
            "__________________________________________________________________________________________________\n",
            "dropout_22 (Dropout)            (None, 16, 16, 128)  0           conv2d_41[0][0]                  \n",
            "__________________________________________________________________________________________________\n",
            "conv2d_42 (Conv2D)              (None, 16, 16, 128)  147584      dropout_22[0][0]                 \n",
            "__________________________________________________________________________________________________\n",
            "conv2d_transpose_7 (Conv2DTrans (None, 32, 32, 64)   32832       conv2d_42[0][0]                  \n",
            "__________________________________________________________________________________________________\n",
            "concatenate_7 (Concatenate)     (None, 32, 32, 128)  0           conv2d_transpose_7[0][0]         \n",
            "                                                                 conv2d_30[0][0]                  \n",
            "__________________________________________________________________________________________________\n",
            "conv2d_43 (Conv2D)              (None, 32, 32, 64)   73792       concatenate_7[0][0]              \n",
            "__________________________________________________________________________________________________\n",
            "dropout_23 (Dropout)            (None, 32, 32, 64)   0           conv2d_43[0][0]                  \n",
            "__________________________________________________________________________________________________\n",
            "conv2d_44 (Conv2D)              (None, 32, 32, 64)   36928       dropout_23[0][0]                 \n",
            "__________________________________________________________________________________________________\n",
            "conv2d_transpose_8 (Conv2DTrans (None, 64, 64, 32)   8224        conv2d_44[0][0]                  \n",
            "__________________________________________________________________________________________________\n",
            "concatenate_8 (Concatenate)     (None, 64, 64, 64)   0           conv2d_transpose_8[0][0]         \n",
            "                                                                 conv2d_28[0][0]                  \n",
            "__________________________________________________________________________________________________\n",
            "conv2d_45 (Conv2D)              (None, 64, 64, 32)   18464       concatenate_8[0][0]              \n",
            "__________________________________________________________________________________________________\n",
            "dropout_24 (Dropout)            (None, 64, 64, 32)   0           conv2d_45[0][0]                  \n",
            "__________________________________________________________________________________________________\n",
            "conv2d_46 (Conv2D)              (None, 64, 64, 32)   9248        dropout_24[0][0]                 \n",
            "__________________________________________________________________________________________________\n",
            "conv2d_transpose_9 (Conv2DTrans (None, 128, 128, 16) 2064        conv2d_46[0][0]                  \n",
            "__________________________________________________________________________________________________\n",
            "concatenate_9 (Concatenate)     (None, 128, 128, 32) 0           conv2d_transpose_9[0][0]         \n",
            "                                                                 conv2d_26[0][0]                  \n",
            "__________________________________________________________________________________________________\n",
            "conv2d_47 (Conv2D)              (None, 128, 128, 16) 4624        concatenate_9[0][0]              \n",
            "__________________________________________________________________________________________________\n",
            "dropout_25 (Dropout)            (None, 128, 128, 16) 0           conv2d_47[0][0]                  \n",
            "__________________________________________________________________________________________________\n",
            "conv2d_48 (Conv2D)              (None, 128, 128, 16) 2320        dropout_25[0][0]                 \n",
            "__________________________________________________________________________________________________\n",
            "conv2d_49 (Conv2D)              (None, 128, 128, 1)  17          conv2d_48[0][0]                  \n",
            "==================================================================================================\n",
            "Total params: 12,495,217\n",
            "Trainable params: 12,495,217\n",
            "Non-trainable params: 0\n",
            "__________________________________________________________________________________________________\n"
          ],
          "name": "stdout"
        }
      ]
    },
    {
      "cell_type": "markdown",
      "metadata": {
        "id": "7Jjd9HOKYJwE"
      },
      "source": [
        "For training, input images and their corresponding segmentation maps are used to train the network"
      ]
    },
    {
      "cell_type": "code",
      "metadata": {
        "colab": {
          "base_uri": "https://localhost:8080/"
        },
        "id": "egYZprgWAc0t",
        "outputId": "350d993a-658a-48df-ed4b-21e62cc2179c"
      },
      "source": [
        "checkpoint_path = \"training_1/cp.ckpt\"\n",
        "checkpoint_dir = os.path.dirname(checkpoint_path)\n",
        "\n",
        "# Create checkpoint callback\n",
        "cp_callback = tf.keras.callbacks.ModelCheckpoint(checkpoint_path, \n",
        "                                                 save_weights_only=True,\n",
        "                                                 verbose=1)\n",
        "\n",
        "callbacks = [\n",
        "  tf.keras.callbacks.EarlyStopping(patience=5, monitor='val_loss', verbose=1),\n",
        "  tf.keras.callbacks.TensorBoard(log_dir='./logs'),\n",
        "  cp_callback \n",
        "]\n",
        "#Changed the split size and number of epochs\n",
        "results = model.fit(x_train, y_train, validation_split=0.3, batch_size=16, epochs=50,callbacks=callbacks)"
      ],
      "execution_count": 21,
      "outputs": [
        {
          "output_type": "stream",
          "text": [
            "Epoch 1/50\n",
            " 2/38 [>.............................] - ETA: 4s - loss: 0.2197 - dice_acc: 0.1550WARNING:tensorflow:Callbacks method `on_train_batch_end` is slow compared to the batch time (batch time: 0.0399s vs `on_train_batch_end` time: 0.2338s). Check your callbacks.\n",
            "37/38 [============================>.] - ETA: 0s - loss: 0.1248 - dice_acc: 0.2991\n",
            "Epoch 00001: saving model to training_1/cp.ckpt\n",
            "38/38 [==============================] - 3s 86ms/step - loss: 0.1232 - dice_acc: 0.3070 - val_loss: 0.0818 - val_dice_acc: 0.5210\n",
            "Epoch 2/50\n",
            "37/38 [============================>.] - ETA: 0s - loss: 0.0564 - dice_acc: 0.6570\n",
            "Epoch 00002: saving model to training_1/cp.ckpt\n",
            "38/38 [==============================] - 3s 70ms/step - loss: 0.0559 - dice_acc: 0.6563 - val_loss: 0.0569 - val_dice_acc: 0.7065\n",
            "Epoch 3/50\n",
            "37/38 [============================>.] - ETA: 0s - loss: 0.0425 - dice_acc: 0.7405\n",
            "Epoch 00003: saving model to training_1/cp.ckpt\n",
            "38/38 [==============================] - 3s 69ms/step - loss: 0.0424 - dice_acc: 0.7425 - val_loss: 0.0423 - val_dice_acc: 0.7685\n",
            "Epoch 4/50\n",
            "37/38 [============================>.] - ETA: 0s - loss: 0.0359 - dice_acc: 0.7814\n",
            "Epoch 00004: saving model to training_1/cp.ckpt\n",
            "38/38 [==============================] - 3s 70ms/step - loss: 0.0362 - dice_acc: 0.7810 - val_loss: 0.0439 - val_dice_acc: 0.7708\n",
            "Epoch 5/50\n",
            "37/38 [============================>.] - ETA: 0s - loss: 0.0328 - dice_acc: 0.7998\n",
            "Epoch 00005: saving model to training_1/cp.ckpt\n",
            "38/38 [==============================] - 3s 70ms/step - loss: 0.0329 - dice_acc: 0.7989 - val_loss: 0.0396 - val_dice_acc: 0.7851\n",
            "Epoch 6/50\n",
            "37/38 [============================>.] - ETA: 0s - loss: 0.0314 - dice_acc: 0.8095\n",
            "Epoch 00006: saving model to training_1/cp.ckpt\n",
            "38/38 [==============================] - 3s 71ms/step - loss: 0.0314 - dice_acc: 0.8087 - val_loss: 0.0364 - val_dice_acc: 0.8029\n",
            "Epoch 7/50\n",
            "37/38 [============================>.] - ETA: 0s - loss: 0.0302 - dice_acc: 0.8172\n",
            "Epoch 00007: saving model to training_1/cp.ckpt\n",
            "38/38 [==============================] - 3s 71ms/step - loss: 0.0301 - dice_acc: 0.8185 - val_loss: 0.0397 - val_dice_acc: 0.7956\n",
            "Epoch 8/50\n",
            "37/38 [============================>.] - ETA: 0s - loss: 0.0305 - dice_acc: 0.8237\n",
            "Epoch 00008: saving model to training_1/cp.ckpt\n",
            "38/38 [==============================] - 3s 71ms/step - loss: 0.0304 - dice_acc: 0.8247 - val_loss: 0.0338 - val_dice_acc: 0.8169\n",
            "Epoch 9/50\n",
            "37/38 [============================>.] - ETA: 0s - loss: 0.0282 - dice_acc: 0.8325\n",
            "Epoch 00009: saving model to training_1/cp.ckpt\n",
            "38/38 [==============================] - 3s 71ms/step - loss: 0.0281 - dice_acc: 0.8324 - val_loss: 0.0314 - val_dice_acc: 0.8302\n",
            "Epoch 10/50\n",
            "37/38 [============================>.] - ETA: 0s - loss: 0.0259 - dice_acc: 0.8389\n",
            "Epoch 00010: saving model to training_1/cp.ckpt\n",
            "38/38 [==============================] - 3s 71ms/step - loss: 0.0261 - dice_acc: 0.8394 - val_loss: 0.0306 - val_dice_acc: 0.8359\n",
            "Epoch 11/50\n",
            "37/38 [============================>.] - ETA: 0s - loss: 0.0258 - dice_acc: 0.8450\n",
            "Epoch 00011: saving model to training_1/cp.ckpt\n",
            "38/38 [==============================] - 3s 70ms/step - loss: 0.0259 - dice_acc: 0.8440 - val_loss: 0.0304 - val_dice_acc: 0.8387\n",
            "Epoch 12/50\n",
            "37/38 [============================>.] - ETA: 0s - loss: 0.0250 - dice_acc: 0.8461\n",
            "Epoch 00012: saving model to training_1/cp.ckpt\n",
            "38/38 [==============================] - 3s 71ms/step - loss: 0.0250 - dice_acc: 0.8463 - val_loss: 0.0299 - val_dice_acc: 0.8423\n",
            "Epoch 13/50\n",
            "37/38 [============================>.] - ETA: 0s - loss: 0.0267 - dice_acc: 0.8386\n",
            "Epoch 00013: saving model to training_1/cp.ckpt\n",
            "38/38 [==============================] - 3s 71ms/step - loss: 0.0266 - dice_acc: 0.8377 - val_loss: 0.0311 - val_dice_acc: 0.8323\n",
            "Epoch 14/50\n",
            "37/38 [============================>.] - ETA: 0s - loss: 0.0258 - dice_acc: 0.8451\n",
            "Epoch 00014: saving model to training_1/cp.ckpt\n",
            "38/38 [==============================] - 3s 71ms/step - loss: 0.0257 - dice_acc: 0.8462 - val_loss: 0.0325 - val_dice_acc: 0.8320\n",
            "Epoch 15/50\n",
            "37/38 [============================>.] - ETA: 0s - loss: 0.0242 - dice_acc: 0.8523\n",
            "Epoch 00015: saving model to training_1/cp.ckpt\n",
            "38/38 [==============================] - 3s 70ms/step - loss: 0.0243 - dice_acc: 0.8515 - val_loss: 0.0302 - val_dice_acc: 0.8388\n",
            "Epoch 16/50\n",
            "37/38 [============================>.] - ETA: 0s - loss: 0.0244 - dice_acc: 0.8492\n",
            "Epoch 00016: saving model to training_1/cp.ckpt\n",
            "38/38 [==============================] - 3s 70ms/step - loss: 0.0243 - dice_acc: 0.8504 - val_loss: 0.0280 - val_dice_acc: 0.8531\n",
            "Epoch 17/50\n",
            "38/38 [==============================] - ETA: 0s - loss: 0.0236 - dice_acc: 0.8561\n",
            "Epoch 00017: saving model to training_1/cp.ckpt\n",
            "38/38 [==============================] - 3s 70ms/step - loss: 0.0236 - dice_acc: 0.8561 - val_loss: 0.0259 - val_dice_acc: 0.8624\n",
            "Epoch 18/50\n",
            "38/38 [==============================] - ETA: 0s - loss: 0.0237 - dice_acc: 0.8567\n",
            "Epoch 00018: saving model to training_1/cp.ckpt\n",
            "38/38 [==============================] - 3s 70ms/step - loss: 0.0237 - dice_acc: 0.8567 - val_loss: 0.0285 - val_dice_acc: 0.8432\n",
            "Epoch 19/50\n",
            "37/38 [============================>.] - ETA: 0s - loss: 0.0229 - dice_acc: 0.8582\n",
            "Epoch 00019: saving model to training_1/cp.ckpt\n",
            "38/38 [==============================] - 3s 70ms/step - loss: 0.0228 - dice_acc: 0.8572 - val_loss: 0.0252 - val_dice_acc: 0.8625\n",
            "Epoch 20/50\n",
            "37/38 [============================>.] - ETA: 0s - loss: 0.0221 - dice_acc: 0.8627\n",
            "Epoch 00020: saving model to training_1/cp.ckpt\n",
            "38/38 [==============================] - 3s 70ms/step - loss: 0.0222 - dice_acc: 0.8621 - val_loss: 0.0253 - val_dice_acc: 0.8620\n",
            "Epoch 21/50\n",
            "37/38 [============================>.] - ETA: 0s - loss: 0.0223 - dice_acc: 0.8626\n",
            "Epoch 00021: saving model to training_1/cp.ckpt\n",
            "38/38 [==============================] - 3s 70ms/step - loss: 0.0222 - dice_acc: 0.8626 - val_loss: 0.0247 - val_dice_acc: 0.8624\n",
            "Epoch 22/50\n",
            "37/38 [============================>.] - ETA: 0s - loss: 0.0220 - dice_acc: 0.8623\n",
            "Epoch 00022: saving model to training_1/cp.ckpt\n",
            "38/38 [==============================] - 3s 71ms/step - loss: 0.0219 - dice_acc: 0.8632 - val_loss: 0.0245 - val_dice_acc: 0.8658\n",
            "Epoch 23/50\n",
            "37/38 [============================>.] - ETA: 0s - loss: 0.0218 - dice_acc: 0.8642\n",
            "Epoch 00023: saving model to training_1/cp.ckpt\n",
            "38/38 [==============================] - 3s 69ms/step - loss: 0.0218 - dice_acc: 0.8648 - val_loss: 0.0245 - val_dice_acc: 0.8669\n",
            "Epoch 24/50\n",
            "37/38 [============================>.] - ETA: 0s - loss: 0.0217 - dice_acc: 0.8646\n",
            "Epoch 00024: saving model to training_1/cp.ckpt\n",
            "38/38 [==============================] - 3s 70ms/step - loss: 0.0218 - dice_acc: 0.8647 - val_loss: 0.0256 - val_dice_acc: 0.8596\n",
            "Epoch 25/50\n",
            "37/38 [============================>.] - ETA: 0s - loss: 0.0216 - dice_acc: 0.8664\n",
            "Epoch 00025: saving model to training_1/cp.ckpt\n",
            "38/38 [==============================] - 3s 69ms/step - loss: 0.0215 - dice_acc: 0.8671 - val_loss: 0.0245 - val_dice_acc: 0.8661\n",
            "Epoch 26/50\n",
            "37/38 [============================>.] - ETA: 0s - loss: 0.0213 - dice_acc: 0.8678\n",
            "Epoch 00026: saving model to training_1/cp.ckpt\n",
            "38/38 [==============================] - 3s 69ms/step - loss: 0.0214 - dice_acc: 0.8677 - val_loss: 0.0238 - val_dice_acc: 0.8668\n",
            "Epoch 27/50\n",
            "37/38 [============================>.] - ETA: 0s - loss: 0.0211 - dice_acc: 0.8687\n",
            "Epoch 00027: saving model to training_1/cp.ckpt\n",
            "38/38 [==============================] - 3s 75ms/step - loss: 0.0211 - dice_acc: 0.8692 - val_loss: 0.0234 - val_dice_acc: 0.8699\n",
            "Epoch 28/50\n",
            "37/38 [============================>.] - ETA: 0s - loss: 0.0207 - dice_acc: 0.8716\n",
            "Epoch 00028: saving model to training_1/cp.ckpt\n",
            "38/38 [==============================] - 3s 82ms/step - loss: 0.0210 - dice_acc: 0.8714 - val_loss: 0.0254 - val_dice_acc: 0.8615\n",
            "Epoch 29/50\n",
            "38/38 [==============================] - ETA: 0s - loss: 0.0211 - dice_acc: 0.8686\n",
            "Epoch 00029: saving model to training_1/cp.ckpt\n",
            "38/38 [==============================] - 5s 129ms/step - loss: 0.0211 - dice_acc: 0.8686 - val_loss: 0.0241 - val_dice_acc: 0.8673\n",
            "Epoch 30/50\n",
            "37/38 [============================>.] - ETA: 0s - loss: 0.0206 - dice_acc: 0.8748\n",
            "Epoch 00030: saving model to training_1/cp.ckpt\n",
            "38/38 [==============================] - 3s 76ms/step - loss: 0.0206 - dice_acc: 0.8741 - val_loss: 0.0244 - val_dice_acc: 0.8665\n",
            "Epoch 31/50\n",
            "37/38 [============================>.] - ETA: 0s - loss: 0.0207 - dice_acc: 0.8721\n",
            "Epoch 00031: saving model to training_1/cp.ckpt\n",
            "38/38 [==============================] - 3s 84ms/step - loss: 0.0208 - dice_acc: 0.8717 - val_loss: 0.0244 - val_dice_acc: 0.8663\n",
            "Epoch 32/50\n",
            "37/38 [============================>.] - ETA: 0s - loss: 0.0217 - dice_acc: 0.8647\n",
            "Epoch 00032: saving model to training_1/cp.ckpt\n",
            "38/38 [==============================] - 3s 91ms/step - loss: 0.0216 - dice_acc: 0.8651 - val_loss: 0.0251 - val_dice_acc: 0.8693\n",
            "Epoch 00032: early stopping\n"
          ],
          "name": "stdout"
        }
      ]
    },
    {
      "cell_type": "markdown",
      "metadata": {
        "id": "7w85vTpoYQyS"
      },
      "source": [
        "visualizing the model performance"
      ]
    },
    {
      "cell_type": "code",
      "metadata": {
        "colab": {
          "base_uri": "https://localhost:8080/",
          "height": 909
        },
        "id": "5Ri8BhUZAc3q",
        "outputId": "88d6be76-cc8c-46e3-b334-0031fddb4916"
      },
      "source": [
        "idx = random.randint(0, len(x_train))\n",
        "x=np.array(x_train[idx])\n",
        "x=np.expand_dims(x, axis=0)\n",
        "predict = model.predict(x, verbose=1)\n",
        "\n",
        "predict = (predict > 0.5).astype(np.uint8)\n",
        "\n",
        "imshow(np.squeeze(y_train[idx]))\n",
        "plt.show()\n",
        "\n",
        "imshow(np.squeeze(predict[0]))\n",
        "plt.show()\n",
        "\n",
        "imshow(x_train[idx])\n",
        "\n",
        "plt.show()"
      ],
      "execution_count": 25,
      "outputs": [
        {
          "output_type": "stream",
          "text": [
            "1/1 [==============================] - 0s 4ms/step\n"
          ],
          "name": "stdout"
        },
        {
          "output_type": "display_data",
          "data": {
            "image/png": "[encoded data removed]",
            "text/plain": [
              "<Figure size 432x288 with 1 Axes>"
            ]
          },
          "metadata": {
            "tags": [],
            "needs_background": "light"
          }
        },
        {
          "output_type": "stream",
          "text": [
            "/usr/local/lib/python3.6/dist-packages/skimage/io/_plugins/matplotlib_plugin.py:150: UserWarning: Low image data range; displaying image with stretched contrast.\n",
            "  lo, hi, cmap = _get_display_range(image)\n"
          ],
          "name": "stderr"
        },
        {
          "output_type": "display_data",
          "data": {
            "image/png": "[encoded data removed]",
            "text/plain": [
              "<Figure size 432x288 with 2 Axes>"
            ]
          },
          "metadata": {
            "tags": [],
            "needs_background": "light"
          }
        },
        {
          "output_type": "display_data",
          "data": {
            "image/png": "[encoded data removed]",
            "text/plain": [
              "<Figure size 432x288 with 1 Axes>"
            ]
          },
          "metadata": {
            "tags": [],
            "needs_background": "light"
          }
        }
      ]
    },
    {
      "cell_type": "code",
      "metadata": {
        "id": "nH1RohB5S2B4"
      },
      "source": [
        ""
      ],
      "execution_count": null,
      "outputs": []
    }
  ]
}
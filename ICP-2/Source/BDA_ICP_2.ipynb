{
  "nbformat": 4,
  "nbformat_minor": 0,
  "metadata": {
    "colab": {
      "name": "BDA_ICP-2.ipynb",
      "provenance": [],
      "authorship_tag": "ABX9TyPvTYM3g1KWFwGv7KpQSC7w",
      "include_colab_link": true
    },
    "kernelspec": {
      "name": "python3",
      "display_name": "Python 3"
    }
  },
  "cells": [
    {
      "cell_type": "markdown",
      "metadata": {
        "id": "view-in-github",
        "colab_type": "text"
      },
      "source": [
        "<a href=\"https://colab.research.google.com/github/akkipant/CS5542-Big-Data-Analytics-and-Applications/blob/master/ICP-2/Source/BDA_ICP_2.ipynb\" target=\"_parent\"><img src=\"https://colab.research.google.com/assets/colab-badge.svg\" alt=\"Open In Colab\"/></a>"
      ]
    },
    {
      "cell_type": "code",
      "metadata": {
        "id": "0uJKsuiNRZRN",
        "colab_type": "code",
        "colab": {}
      },
      "source": [
        "!apt-get install openjdk-8-jdk-headless -qq > /dev/null\n",
        "!wget -q https://downloads.apache.org/spark/spark-3.0.0/spark-3.0.0-bin-hadoop3.2.tgz\n",
        "!tar xf spark-3.0.0-bin-hadoop3.2.tgz\n",
        "!pip install -q findspark"
      ],
      "execution_count": null,
      "outputs": []
    },
    {
      "cell_type": "code",
      "metadata": {
        "id": "4ZE_O-ZRa857",
        "colab_type": "code",
        "colab": {
          "base_uri": "https://localhost:8080/",
          "height": 52
        },
        "outputId": "bd98be94-8186-4994-fc05-2e541c8e4a73"
      },
      "source": [
        "!ls /usr/lib/jvm/"
      ],
      "execution_count": null,
      "outputs": [
        {
          "output_type": "stream",
          "text": [
            "default-java\t\t   java-11-openjdk-amd64     java-8-openjdk-amd64\n",
            "java-1.11.0-openjdk-amd64  java-1.8.0-openjdk-amd64\n"
          ],
          "name": "stdout"
        }
      ]
    },
    {
      "cell_type": "code",
      "metadata": {
        "id": "Ok2fnNbd-KH2",
        "colab_type": "code",
        "colab": {}
      },
      "source": [
        "import os\n",
        "os.environ[\"JAVA_HOME\"] = \"/usr/lib/jvm/java-8-openjdk-amd64\"\n",
        "os.environ[\"SPARK_HOME\"] = \"/content/spark-3.0.0-bin-hadoop3.2\""
      ],
      "execution_count": null,
      "outputs": []
    },
    {
      "cell_type": "code",
      "metadata": {
        "id": "G0rSrOXq-e8T",
        "colab_type": "code",
        "colab": {
          "base_uri": "https://localhost:8080/",
          "height": 263
        },
        "outputId": "59b78f43-e8b9-4d67-d966-8340434aa5e2"
      },
      "source": [
        "!pip install pyspark"
      ],
      "execution_count": null,
      "outputs": [
        {
          "output_type": "stream",
          "text": [
            "Collecting pyspark\n",
            "\u001b[?25l  Downloading https://files.pythonhosted.org/packages/8e/b0/bf9020b56492281b9c9d8aae8f44ff51e1bc91b3ef5a884385cb4e389a40/pyspark-3.0.0.tar.gz (204.7MB)\n",
            "\u001b[K     |████████████████████████████████| 204.7MB 64kB/s \n",
            "\u001b[?25hCollecting py4j==0.10.9\n",
            "\u001b[?25l  Downloading https://files.pythonhosted.org/packages/9e/b6/6a4fb90cd235dc8e265a6a2067f2a2c99f0d91787f06aca4bcf7c23f3f80/py4j-0.10.9-py2.py3-none-any.whl (198kB)\n",
            "\u001b[K     |████████████████████████████████| 204kB 41.1MB/s \n",
            "\u001b[?25hBuilding wheels for collected packages: pyspark\n",
            "  Building wheel for pyspark (setup.py) ... \u001b[?25l\u001b[?25hdone\n",
            "  Created wheel for pyspark: filename=pyspark-3.0.0-py2.py3-none-any.whl size=205044184 sha256=0d41bacbb218f6c41cf327332a4ff130138a7ea6c9b6ff6171ca8d7876d2f6d8\n",
            "  Stored in directory: /root/.cache/pip/wheels/57/27/4d/ddacf7143f8d5b76c45c61ee2e43d9f8492fc5a8e78ebd7d37\n",
            "Successfully built pyspark\n",
            "Installing collected packages: py4j, pyspark\n",
            "Successfully installed py4j-0.10.9 pyspark-3.0.0\n"
          ],
          "name": "stdout"
        }
      ]
    },
    {
      "cell_type": "markdown",
      "metadata": {
        "id": "HyI9uFiqynEa",
        "colab_type": "text"
      },
      "source": [
        "# Configuring a SparkSession\n",
        "\n",
        "The entry point to using Spark SQL is an object called SparkSession. It initiates a Spark Application which all the code for that Session will run on.\n",
        "\n",
        ".builder — gives access to Builder API which is used to configure the session .\n",
        "\n",
        ".master() — determines where the program will run; \"local[*]\" sets it to run locally on all cores but you can use \"local[1]\" to run on one core for example. In this case, our programs will be run on Google’s servers.\n",
        "\n",
        ".appName() — optional method to name the Spark Application\n",
        "\n",
        ".getOrCreate() — gets an existing SparkSession or creates new one if none exists"
      ]
    },
    {
      "cell_type": "code",
      "metadata": {
        "id": "pXFCPjS9ArVs",
        "colab_type": "code",
        "colab": {}
      },
      "source": [
        "from pyspark.sql import SparkSession\n",
        "spark = SparkSession.builder.master(\"local[*]\").appName(\"Word Group\").getOrCreate()"
      ],
      "execution_count": null,
      "outputs": []
    },
    {
      "cell_type": "markdown",
      "metadata": {
        "id": "iZBqNTl6aIdE",
        "colab_type": "text"
      },
      "source": [
        "Saving the object SparkContext into sc variable from sparkSession"
      ]
    },
    {
      "cell_type": "code",
      "metadata": {
        "id": "nPeeo3nHW8Zu",
        "colab_type": "code",
        "colab": {}
      },
      "source": [
        "sc = spark.sparkContext"
      ],
      "execution_count": null,
      "outputs": []
    },
    {
      "cell_type": "markdown",
      "metadata": {
        "id": "nf_084RYaovb",
        "colab_type": "text"
      },
      "source": [
        "## Reading the File\n",
        "Using textFile() of sparkContext we read file from the storage and stored its content into input variable. Then using collect() to view the data loaded"
      ]
    },
    {
      "cell_type": "code",
      "metadata": {
        "id": "pBsFEKjfxRI-",
        "colab_type": "code",
        "colab": {
          "base_uri": "https://localhost:8080/",
          "height": 139
        },
        "outputId": "5a39bc12-61df-457c-d114-39015238d54a"
      },
      "source": [
        "input = sc.textFile(\"icp2.txt\")\n",
        "input.collect()"
      ],
      "execution_count": null,
      "outputs": [
        {
          "output_type": "execute_result",
          "data": {
            "text/plain": [
              "['The University of South Carolina reports that more than 1,000 students currently have the virus.',\n",
              " 'The C.D.C. tells health officials to be ready to distribute a vaccine by November, raising concerns over politicized timing.',\n",
              " 'In Iowa, college students staged a sickout, and a football opener won’t have fans after all.',\n",
              " 'Virus fallout from the Sturgis motorcycle rally: A death in Minnesota, cases in South Dakota and more.',\n",
              " 'New studies show inexpensive steroid drugs can help critically sick people survive Covid-19.',\n",
              " 'Silvio Berlusconi, Italy’s former prime minister, tests positive.',\n",
              " 'A judge orders the University of California to stop considering SAT or ACT scores because of the pandemic.']"
            ]
          },
          "metadata": {
            "tags": []
          },
          "execution_count": 16
        }
      ]
    },
    {
      "cell_type": "markdown",
      "metadata": {
        "id": "sbQnFohGcYx2",
        "colab_type": "text"
      },
      "source": [
        "## FlatMap\n",
        "Here flatMap is used to transform the input data into the form required by the user. The transformation logic is defined inside the function."
      ]
    },
    {
      "cell_type": "code",
      "metadata": {
        "id": "n4SbeO_CxyWI",
        "colab_type": "code",
        "colab": {}
      },
      "source": [
        "wordGroup = input.flatMap(lambda line: line.split())"
      ],
      "execution_count": null,
      "outputs": []
    },
    {
      "cell_type": "code",
      "metadata": {
        "id": "GKIelWbrx5qT",
        "colab_type": "code",
        "colab": {
          "base_uri": "https://localhost:8080/",
          "height": 1000
        },
        "outputId": "686da369-afd2-4adb-89aa-03fcf799d49b"
      },
      "source": [
        "wordGroup.collect()"
      ],
      "execution_count": 52,
      "outputs": [
        {
          "output_type": "execute_result",
          "data": {
            "text/plain": [
              "['The',\n",
              " 'University',\n",
              " 'of',\n",
              " 'South',\n",
              " 'Carolina',\n",
              " 'reports',\n",
              " 'that',\n",
              " 'more',\n",
              " 'than',\n",
              " '1,000',\n",
              " 'students',\n",
              " 'currently',\n",
              " 'have',\n",
              " 'the',\n",
              " 'virus.',\n",
              " 'The',\n",
              " 'C.D.C.',\n",
              " 'tells',\n",
              " 'health',\n",
              " 'officials',\n",
              " 'to',\n",
              " 'be',\n",
              " 'ready',\n",
              " 'to',\n",
              " 'distribute',\n",
              " 'a',\n",
              " 'vaccine',\n",
              " 'by',\n",
              " 'November,',\n",
              " 'raising',\n",
              " 'concerns',\n",
              " 'over',\n",
              " 'politicized',\n",
              " 'timing.',\n",
              " 'In',\n",
              " 'Iowa,',\n",
              " 'college',\n",
              " 'students',\n",
              " 'staged',\n",
              " 'a',\n",
              " 'sickout,',\n",
              " 'and',\n",
              " 'a',\n",
              " 'football',\n",
              " 'opener',\n",
              " 'won’t',\n",
              " 'have',\n",
              " 'fans',\n",
              " 'after',\n",
              " 'all.',\n",
              " 'Virus',\n",
              " 'fallout',\n",
              " 'from',\n",
              " 'the',\n",
              " 'Sturgis',\n",
              " 'motorcycle',\n",
              " 'rally:',\n",
              " 'A',\n",
              " 'death',\n",
              " 'in',\n",
              " 'Minnesota,',\n",
              " 'cases',\n",
              " 'in',\n",
              " 'South',\n",
              " 'Dakota',\n",
              " 'and',\n",
              " 'more.',\n",
              " 'New',\n",
              " 'studies',\n",
              " 'show',\n",
              " 'inexpensive',\n",
              " 'steroid',\n",
              " 'drugs',\n",
              " 'can',\n",
              " 'help',\n",
              " 'critically',\n",
              " 'sick',\n",
              " 'people',\n",
              " 'survive',\n",
              " 'Covid-19.',\n",
              " 'Silvio',\n",
              " 'Berlusconi,',\n",
              " 'Italy’s',\n",
              " 'former',\n",
              " 'prime',\n",
              " 'minister,',\n",
              " 'tests',\n",
              " 'positive.',\n",
              " 'A',\n",
              " 'judge',\n",
              " 'orders',\n",
              " 'the',\n",
              " 'University',\n",
              " 'of',\n",
              " 'California',\n",
              " 'to',\n",
              " 'stop',\n",
              " 'considering',\n",
              " 'SAT',\n",
              " 'or',\n",
              " 'ACT',\n",
              " 'scores',\n",
              " 'because',\n",
              " 'of',\n",
              " 'the',\n",
              " 'pandemic.']"
            ]
          },
          "metadata": {
            "tags": []
          },
          "execution_count": 52
        }
      ]
    },
    {
      "cell_type": "markdown",
      "metadata": {
        "id": "iQC6xEo8ch0M",
        "colab_type": "text"
      },
      "source": [
        "## GroupBy\n",
        "Here GroupBy is being used to make the group of words which have the same first character.\n",
        "Once the data is grouped I am mapping the iterable objects to a list to save the output into a text file later."
      ]
    },
    {
      "cell_type": "code",
      "metadata": {
        "id": "Xmc26Sq-011O",
        "colab_type": "code",
        "colab": {}
      },
      "source": [
        "w = wordGroup.groupBy(lambda word: word[0]).map(lambda x : (x[0], list(x[1])))"
      ],
      "execution_count": null,
      "outputs": []
    },
    {
      "cell_type": "code",
      "metadata": {
        "id": "ShMZVKMu1B_V",
        "colab_type": "code",
        "colab": {
          "base_uri": "https://localhost:8080/",
          "height": 514
        },
        "outputId": "996bab85-87f6-436d-b1e4-bd267148b30d"
      },
      "source": [
        "# Printing the data in W using the collect function and all the data is stored in iterable objects\n",
        "for data in w.collect():\n",
        "    print(data[0], [i for i in data[1]])"
      ],
      "execution_count": null,
      "outputs": [
        {
          "output_type": "stream",
          "text": [
            "S ['South', 'Sturgis', 'South', 'Silvio', 'SAT']\n",
            "C ['Carolina', 'C.D.C.', 'Covid-19.', 'California']\n",
            "r ['reports', 'ready', 'raising', 'rally:']\n",
            "1 ['1,000']\n",
            "s ['students', 'students', 'staged', 'sickout,', 'studies', 'show', 'steroid', 'sick', 'survive', 'stop', 'scores']\n",
            "c ['currently', 'concerns', 'college', 'cases', 'can', 'critically', 'considering']\n",
            "h ['have', 'health', 'have', 'help']\n",
            "b ['be', 'by', 'because']\n",
            "d ['distribute', 'death', 'drugs']\n",
            "N ['November,', 'New']\n",
            "p ['politicized', 'people', 'prime', 'positive.', 'pandemic.']\n",
            "i ['in', 'in', 'inexpensive']\n",
            "j ['judge']\n",
            "T ['The', 'The']\n",
            "U ['University', 'University']\n",
            "o ['of', 'officials', 'over', 'opener', 'orders', 'of', 'or', 'of']\n",
            "t ['that', 'than', 'the', 'tells', 'to', 'to', 'timing.', 'the', 'tests', 'the', 'to', 'the']\n",
            "m ['more', 'motorcycle', 'more.', 'minister,']\n",
            "v ['virus.', 'vaccine']\n",
            "a ['a', 'a', 'and', 'a', 'after', 'all.', 'and']\n",
            "I ['In', 'Iowa,', 'Italy’s']\n",
            "f ['football', 'fans', 'fallout', 'from', 'former']\n",
            "w ['won’t']\n",
            "V ['Virus']\n",
            "A ['A', 'A', 'ACT']\n",
            "M ['Minnesota,']\n",
            "D ['Dakota']\n",
            "B ['Berlusconi,']\n"
          ],
          "name": "stdout"
        }
      ]
    },
    {
      "cell_type": "markdown",
      "metadata": {
        "id": "DZ1wg-lTs5R-",
        "colab_type": "text"
      },
      "source": [
        "## Save data into file\n",
        "Using saveAsTextFile to save the rdd into a file."
      ]
    },
    {
      "cell_type": "code",
      "metadata": {
        "id": "UF4lA_3LlkN5",
        "colab_type": "code",
        "colab": {}
      },
      "source": [
        "w.saveAsTextFile('Output')"
      ],
      "execution_count": null,
      "outputs": []
    }
  ]
}